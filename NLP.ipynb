{
  "nbformat": 4,
  "nbformat_minor": 0,
  "metadata": {
    "colab": {
      "provenance": [],
      "authorship_tag": "ABX9TyNadnxqp+AggP4PVZ14UUok",
      "include_colab_link": true
    },
    "kernelspec": {
      "name": "python3",
      "display_name": "Python 3"
    },
    "language_info": {
      "name": "python"
    }
  },
  "cells": [
    {
      "cell_type": "markdown",
      "metadata": {
        "id": "view-in-github",
        "colab_type": "text"
      },
      "source": [
        "<a href=\"https://colab.research.google.com/github/Harshit6322/FASTAPI_LEARN/blob/main/NLP.ipynb\" target=\"_parent\"><img src=\"https://colab.research.google.com/assets/colab-badge.svg\" alt=\"Open In Colab\"/></a>"
      ]
    },
    {
      "cell_type": "markdown",
      "source": [
        "**NLP Regex**"
      ],
      "metadata": {
        "id": "kP1saQ2kVvJ1"
      }
    },
    {
      "cell_type": "code",
      "execution_count": null,
      "metadata": {
        "colab": {
          "base_uri": "https://localhost:8080/"
        },
        "id": "getm6mB1Vo7Q",
        "outputId": "2f333be1-09c6-473b-bbfd-e4c4d468ebdb"
      },
      "outputs": [
        {
          "output_type": "execute_result",
          "data": {
            "text/plain": [
              "['412889912']"
            ]
          },
          "metadata": {},
          "execution_count": 3
        }
      ],
      "source": [
        "import re\n",
        "\n",
        "chat1 = 'codebasics: Hello, I am having an issue with my order # 412889912'\n",
        "chat2 = 'codebasics: I have a problem with my order number 41288991'\n",
        "chat3 = 'codebasics: My order 412889912 is having an issue, I was charged 300$ when online it says 280$'\n",
        "\n",
        "pattern = 'order[^\\d]*(\\d*)'\n",
        "\n",
        "matches = re.findall(pattern, chat1)\n",
        "matches"
      ]
    },
    {
      "cell_type": "code",
      "source": [
        "import re\n",
        "\n",
        "chat1 = 'abc_123@gmail.com , 8854327621, abc123@gmail.com'\n",
        "chat2 = 'CDE_123@gmail.com ,(123)-123-2345 abc@gmail.com'\n",
        "\n",
        "pattern = \"\\(\\d{3}\\)-\\d{3}-\\d{4} | \\d{10}\"\n",
        "\n",
        "matches = re.findall(pattern, chat2)\n",
        "matches"
      ],
      "metadata": {
        "id": "RWVEFqU7Wwba",
        "colab": {
          "base_uri": "https://localhost:8080/"
        },
        "outputId": "b8a4b20d-5e1d-4f3d-ea6c-e528e823b211"
      },
      "execution_count": 8,
      "outputs": [
        {
          "output_type": "execute_result",
          "data": {
            "text/plain": [
              "['(123)-123-2345 ']"
            ]
          },
          "metadata": {},
          "execution_count": 8
        }
      ]
    },
    {
      "cell_type": "code",
      "source": [
        "import re\n",
        "\n",
        "chat1 = 'abc_123@gmail.com , 8854327621, abc123@gmail.com'\n",
        "chat2 = '  CDE_123@gmail.com ,(123)-123-2345 abc@gmail.com'\n",
        "\n",
        "pattern = \"[a-z0-9,A-Z_]*@*[a-zA-Z]*\\.com\"\n",
        "\n",
        "matches = re.findall(pattern, chat2)\n",
        "matches"
      ],
      "metadata": {
        "colab": {
          "base_uri": "https://localhost:8080/"
        },
        "id": "tSSePOPjwT4I",
        "outputId": "9b5879cd-21ec-4f56-b45a-0c7d985ee7a1"
      },
      "execution_count": 14,
      "outputs": [
        {
          "output_type": "execute_result",
          "data": {
            "text/plain": [
              "['CDE_123@gmail.com', 'abc@gmail.com']"
            ]
          },
          "metadata": {},
          "execution_count": 14
        }
      ]
    },
    {
      "cell_type": "code",
      "source": [
        "import re\n",
        "\n",
        "text= \"\"\"\n",
        "Born\tElon Reeve Musk\n",
        "June 28, 1971 (age 53)\n",
        "Pretoria, Transvaal, South Africa\n",
        "Citizenship\n",
        "South Africa\n",
        "Canada\n",
        "United States (from 2002)\n",
        "Education\tUniversity of Pennsylvania (BA, BS)\n",
        "Title\n",
        "Founder, CEO, and chief engineer of SpaceX\n",
        "CEO and product architect of Tesla, Inc.\n",
        "Owner, CTO and Executive Chairman of X (formerly Twitter)\n",
        "President of the Musk Foundation\n",
        "Founder of The Boring Company, X Corp., and xAI\n",
        "Co-founder of Neuralink, OpenAI, Zip2, and X.com (part of PayPal)\n",
        "Spouses\n",
        "Justine Wilson\n",
        "Partners\n",
        "Grimes (2018–2021)[1]\n",
        "Children\t12[2]\n",
        "Parents\n",
        "Errol Musk\n",
        "Maye Musk\n",
        "Relatives\n",
        "Kimbal Musk (brother)\n",
        "Tosca Musk (sister)\n",
        "Lyndon Rive (cousin)\n",
        "Awards\tFull list\n",
        "Signature\n",
        "\"\"\"\n",
        "\n",
        "pattern = \"age.(\\d+)\"\n",
        "\n",
        "matches = re.findall(pattern, text)\n",
        "matches"
      ],
      "metadata": {
        "colab": {
          "base_uri": "https://localhost:8080/"
        },
        "id": "DwMcShjZxyDJ",
        "outputId": "13128c21-3692-43b0-bdd7-3bdc5d6518ca"
      },
      "execution_count": 17,
      "outputs": [
        {
          "output_type": "execute_result",
          "data": {
            "text/plain": [
              "['53']"
            ]
          },
          "metadata": {},
          "execution_count": 17
        }
      ]
    },
    {
      "cell_type": "code",
      "source": [
        "\n",
        "pattern = \"Born.*\\n(.*)\\(\"\n",
        "\n",
        "matches = re.findall(pattern, text)\n",
        "matches"
      ],
      "metadata": {
        "id": "fc3OmLYM3Ua2",
        "outputId": "367838b6-6d76-4736-9559-e40110ead43a",
        "colab": {
          "base_uri": "https://localhost:8080/"
        }
      },
      "execution_count": 18,
      "outputs": [
        {
          "output_type": "execute_result",
          "data": {
            "text/plain": [
              "['June 28, 1971 ']"
            ]
          },
          "metadata": {},
          "execution_count": 18
        }
      ]
    },
    {
      "cell_type": "code",
      "source": [
        "pattern = \"Born(.*)\"\n",
        "\n",
        "matches = re.findall(pattern, text)\n",
        "matches[0].strip()"
      ],
      "metadata": {
        "id": "3dqCrC_E33MR",
        "outputId": "bc459232-01f1-4960-e690-12b47019adfc",
        "colab": {
          "base_uri": "https://localhost:8080/",
          "height": 35
        }
      },
      "execution_count": 23,
      "outputs": [
        {
          "output_type": "execute_result",
          "data": {
            "text/plain": [
              "'Elon Reeve Musk'"
            ],
            "application/vnd.google.colaboratory.intrinsic+json": {
              "type": "string"
            }
          },
          "metadata": {},
          "execution_count": 23
        }
      ]
    },
    {
      "cell_type": "code",
      "source": [
        "pattern = \"Citizenship.\\n(.*.\\n.*.\\n.*)\\(\"\n",
        "\n",
        "matches = re.findall(pattern, text)\n",
        "matches[0].strip().split(\"\\n\")"
      ],
      "metadata": {
        "id": "1vGw_0AF5cDD",
        "outputId": "8a337aee-f542-4372-b5e6-a533d1a7d845",
        "colab": {
          "base_uri": "https://localhost:8080/"
        }
      },
      "execution_count": 25,
      "outputs": [
        {
          "output_type": "execute_result",
          "data": {
            "text/plain": [
              "['South Africa', 'Canada', 'United States']"
            ]
          },
          "metadata": {},
          "execution_count": 25
        }
      ]
    },
    {
      "cell_type": "code",
      "source": [
        "pattern = \"Education(.*)\"\n",
        "\n",
        "matches = re.findall(pattern, text)\n",
        "matches[0].strip()"
      ],
      "metadata": {
        "id": "MTYdjEw06CGx",
        "outputId": "f32b7525-0d9e-47b5-fa02-848ca6e72d95",
        "colab": {
          "base_uri": "https://localhost:8080/",
          "height": 35
        }
      },
      "execution_count": 26,
      "outputs": [
        {
          "output_type": "execute_result",
          "data": {
            "text/plain": [
              "'University of Pennsylvania (BA, BS)'"
            ],
            "application/vnd.google.colaboratory.intrinsic+json": {
              "type": "string"
            }
          },
          "metadata": {},
          "execution_count": 26
        }
      ]
    },
    {
      "cell_type": "markdown",
      "source": [],
      "metadata": {
        "id": "eQXbF7bixTgr"
      }
    }
  ]
}